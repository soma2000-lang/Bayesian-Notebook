{
  "nbformat": 4,
  "nbformat_minor": 0,
  "metadata": {
    "colab": {
      "name": "bandits.ipynb",
      "provenance": [],
      "collapsed_sections": [],
      "authorship_tag": "ABX9TyOHaNDtaZ9ZGMqDLTqZ5l/y",
      "include_colab_link": true
    },
    "kernelspec": {
      "name": "python3",
      "display_name": "Python 3"
    }
  },
  "cells": [
    {
      "cell_type": "markdown",
      "metadata": {
        "id": "view-in-github",
        "colab_type": "text"
      },
      "source": [
        "<a href=\"https://colab.research.google.com/github/soma2000-lang/Bayesian-Notebook/blob/master/bandits.ipynb\" target=\"_parent\"><img src=\"https://colab.research.google.com/assets/colab-badge.svg\" alt=\"Open In Colab\"/></a>"
      ]
    },
    {
      "cell_type": "code",
      "metadata": {
        "id": "GlPvwk-stSFs"
      },
      "source": [
        "import numpy as np\r\n",
        "%matplotlib inline\r\n",
        "from IPython.core.pylabtools import figsize\r\n",
        "import matplotlib.pyplot as plt\r\n",
        "import scipy.stats as stats"
      ],
      "execution_count": 1,
      "outputs": []
    },
    {
      "cell_type": "code",
      "metadata": {
        "id": "wXjsgPc8hW0A"
      },
      "source": [
        "from pymc import rbeta\r\n",
        "class Bandits(object):\r\n",
        "  //this class represents N Bandits\r\n",
        "  def__init__(self,p_array):\r\n",
        "    self.p=p_array\r\n",
        "    self.optimal=np.argmax(p_array)\r\n",
        "  def pull(self,i):\r\n",
        "    return np.random.rand()< self.p(i)\r\n",
        "  def__len_(self):\r\n",
        "    return len(self.p)\r\n",
        "class BayesianStrategy(object):\r\n",
        "  def__init__(self,bandits):\r\n",
        "    self.bandits=bandits\r\n",
        "    n_bandits=len(self.bandits)\r\n",
        "    self.wins=np.zeros(n_bandits)\r\n",
        "    self.trials=np.zeros(n_bandits)\r\n",
        "    self.N=0\r\n",
        "    self.choices=[]\r\n",
        "    self.bb_score=[]\r\n",
        "    "
      ],
      "execution_count": null,
      "outputs": []
    },
    {
      "cell_type": "code",
      "metadata": {
        "id": "D0ZGWwYSjjnq"
      },
      "source": [
        "def sample_bandits(self,n=1):\r\n",
        "  bb_score=np.zeros(n)\r\n",
        "  choices=np.zeros(n)\r\n",
        "  for k in range(n):\r\n",
        "    choice=np.argmax(rbeta(1+self.wins,1+self.trials-self.wins))\r\n",
        "    result=self.bandits.pull(choice)\r\n",
        "    self.wins[choice]+=result\r\n",
        "    self.trails[choice]+=1\r\n",
        "    bb_score[k]=result\r\n",
        "    self.N+=1\r\n",
        "    choices[k]=choice\r\n",
        "  self.bb_score=np.r_(self.bb_score,bb_score)\r\n",
        "  self.choices=np.r_[self.choice,choices]\r\n",
        "  return\r\n",
        "  "
      ],
      "execution_count": null,
      "outputs": []
    },
    {
      "cell_type": "code",
      "metadata": {
        "id": "1wWg9Dpnnqku"
      },
      "source": [
        "figsize(11.0,10)\r\n",
        "beta=stats.beta\r\n",
        "x=np.linspace(0.001,999,200)\r\n",
        "def plot_priors(bayesian_strategy,prob,lw=3,alpha=0.2,plt_vines=True):\r\n",
        "  wins=bayesian_strategy.wins\r\n",
        "  trials=bayesian_strategy.trails\r\n",
        "for i in range(prob.shape[0]):\r\n",
        "  y=beta(1+wins[i],1+trails[i]-wins[i])\r\n",
        "  p=plt.plot(x,y.pdf(x),lw=lw)\r\n",
        "  c=p[0].get_markedgecolor()\r\n",
        "  plt.fill_between(x,y,pdf(x),0,color=c,alpha=alpha,label=\"underlying probability:%0.2f\"%prob[i])\r\n",
        "  if plt_vines:\r\n",
        "    plt.vlines(prob[i],0,y.pdf(prob[i]),colors=c,linestyles=\"--\",lw=2)\r\n",
        "    plt.autoscale(tight=\"True\")\r\n",
        "    plt.title(\"Posteriors after%d pull\"%bayesian_strategy.N+\"s\"*(bayesian_strategy.N>1))\r\n",
        "    plt.autoscales(tight=True)\r\n",
        "return\r\n",
        "\r\n"
      ],
      "execution_count": null,
      "outputs": []
    }
  ]
}