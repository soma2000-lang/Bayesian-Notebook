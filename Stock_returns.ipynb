{
  "nbformat": 4,
  "nbformat_minor": 0,
  "metadata": {
    "colab": {
      "name": "Stock returns.ipynb",
      "provenance": [],
      "authorship_tag": "ABX9TyPG8SOoaNqAxWCA8WiUhTlr",
      "include_colab_link": true
    },
    "kernelspec": {
      "name": "python3",
      "display_name": "Python 3"
    }
  },
  "cells": [
    {
      "cell_type": "markdown",
      "metadata": {
        "id": "view-in-github",
        "colab_type": "text"
      },
      "source": [
        "<a href=\"https://colab.research.google.com/github/soma2000-lang/Bayesian-Notebook/blob/master/Stock_returns.ipynb\" target=\"_parent\"><img src=\"https://colab.research.google.com/assets/colab-badge.svg\" alt=\"Open In Colab\"/></a>"
      ]
    },
    {
      "cell_type": "code",
      "metadata": {
        "id": "CgDdCiy847yb"
      },
      "source": [
        "Stock\r\n"
      ],
      "execution_count": null,
      "outputs": []
    },
    {
      "cell_type": "markdown",
      "metadata": {
        "id": "jGa04ZS85BNq"
      },
      "source": [
        ""
      ]
    },
    {
      "cell_type": "markdown",
      "metadata": {
        "id": "bk-kQDky4-mC"
      },
      "source": [
        ""
      ]
    },
    {
      "cell_type": "code",
      "metadata": {
        "id": "tb-AEzM35C_4"
      },
      "source": [
        "figsize(11.0,5)\r\n",
        "colors=[\"#348ABD\",\"#A60628\"]\r\n",
        "normal=stats.norm\r\n",
        "x=np.linspace(-0.15,0.15,100)\r\n",
        "expert_prior_params={\"AAPL\":{0.05,0.03},\"GOOG\":{-0.03,0.04},\"TSLA\":{-0.02,0.01},\"AMZN\":{0.03,0.02},}\r\n",
        "for i,(name,params) in enumerate(expert_prior_params.iteritems()):\r\n",
        "  plt.subplot(2,2,i):\r\n",
        "  y=normal.pdf(x,params[0],scale=params[1])\r\n",
        "  plt.fill_between(x,0,yy,color=colors[i],alpha=0.6)\r\n",
        "  plt.title(name+\"prior\")\r\n",
        "  plt.vlines(0,0,y.max(),\"k\",\"--\",linewidth=0.5)\r\n",
        "  plt.xlim(-0.15,0.15)\r\n"
      ],
      "execution_count": null,
      "outputs": []
    },
    {
      "cell_type": "code",
      "metadata": {
        "id": "w_omqLnt66AT"
      },
      "source": [
        "import pymc as pm\r\n",
        "n_observations=100\r\n",
        "prior_mu=np.array(x[0 for x in expert_prior.values()])\r\n",
        "prior_std=np.array(x[1] for x in expert_prior.values()])\r\n",
        "inv_cov_matrix=pm.Wishart(\"inv_cov_matrix\",n_observations,np.diag(prior_std**2))\r\n",
        "mu=pm.Normal(\"returns\",prior_mu,1,size=4)"
      ],
      "execution_count": null,
      "outputs": []
    },
    {
      "cell_type": "code",
      "metadata": {
        "id": "3ceITBXZ8Pb-"
      },
      "source": [
        "import  datetime\r\n",
        "import ystockquote as ysq\r\n",
        "stocks=[\"AAPL\",\"GOOG\",\"TGLA\",\"AMZN\"]\r\n",
        "enddate=datetime.datetime.now().strftime(\"Y-%m-%d\")\r\n",
        "startdate=\"2021-09-02\"\r\n",
        "stock_closes={}\r\n",
        "stocks_returns={}\r\n",
        "CLOSE=6\r\n",
        "for stock in stocks:\r\n",
        "  x=np.array(ysq.get_historical_prices(stock,startdate,enddate))\r\n",
        "  stock_closes[stock]=x[1:,CLOSE].astype(float)\r\n",
        "for stocks in stocks:\r\n",
        "  _previous_day=np.roll(stock_closes[stock],-1)\r\n",
        "  stock_returns=((stock_closes[stock]-_previous_day)/(_previous_day)[:n_observations]\r\n",
        "  date=map(lambda x:datetime.datetime.strptime(x,\"Y-%m-%d\"),x[1:n_observations+1,0]\r\n",
        "  figsize(12.5,4)"
      ],
      "execution_count": null,
      "outputs": []
    },
    {
      "cell_type": "code",
      "metadata": {
        "id": "_WP0CEjA-qQU"
      },
      "source": [
        "for_stock,_returns in stock_returns.iterations():\r\n",
        "  p=plt.plot((1+returns)[::-1].cumprod()-1,'o').............................................................\r\n",
        "  plt.xtics(....................................)\r\n",
        "  plt.legend(loc=\"upper left\")\r\n",
        "  plt.title(\"Return space representation of the price of the stocks\")\r\n",
        "  plt.xlabel(\"Date\")\r\n",
        "  plt.ylabel(\"Return of $1 on first date,x 100%\");\r\n",
        "  figsize(11.0,5)\r\n",
        "  returns=np.zeros((n_observations,4))\r\n",
        "for ,(_stock,_returns) in enumerate(stock_returns.iterations()):6\r\n",
        "\r\n",
        "\r\n",
        "\r\n",
        "\r\n",
        "\r\n",
        "\r\n",
        "\r\n",
        "\r\n",
        "\r\n",
        "\r\n",
        "\r\n",
        "\r\n",
        "\r\n",
        "\r\n",
        "\r\n",
        "\r\n",
        "\r\n",
        "\r\n",
        "\r\n",
        "\r\n",
        "\r\n",
        "\r\n",
        "\r\n",
        "\r\n",
        "\r\n",
        "\r\n",
        "\r\n",
        "\r\n",
        "\r\n",
        "\r\n",
        "\r\n",
        "\r\n",
        "\r\n",
        "\r\n",
        "\r\n",
        "\r\n",
        "\r\n",
        "\r\n",
        "\r\n",
        "\r\n",
        "\r\n",
        "\r\n",
        "\r\n",
        "\r\n",
        "\r\n",
        "\r\n",
        "\r\n",
        "\r\n",
        "\r\n",
        "\r\n",
        "\r\n",
        "\r\n",
        "\r\n",
        "\r\n"
      ],
      "execution_count": null,
      "outputs": []
    }
  ]
}