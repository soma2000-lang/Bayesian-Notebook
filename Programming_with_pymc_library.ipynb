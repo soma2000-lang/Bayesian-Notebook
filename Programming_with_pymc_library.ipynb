{
  "nbformat": 4,
  "nbformat_minor": 0,
  "metadata": {
    "colab": {
      "name": "Programming with pymc library.ipynb",
      "provenance": [],
      "collapsed_sections": [],
      "authorship_tag": "ABX9TyPCQV6Y25xvSrkCuziWVTsL",
      "include_colab_link": true
    },
    "kernelspec": {
      "name": "python3",
      "display_name": "Python 3"
    }
  },
  "cells": [
    {
      "cell_type": "markdown",
      "metadata": {
        "id": "view-in-github",
        "colab_type": "text"
      },
      "source": [
        "<a href=\"https://colab.research.google.com/github/soma2000-lang/Bayesian-Notebook/blob/master/Programming_with_pymc_library.ipynb\" target=\"_parent\"><img src=\"https://colab.research.google.com/assets/colab-badge.svg\" alt=\"Open In Colab\"/></a>"
      ]
    },
    {
      "cell_type": "code",
      "metadata": {
        "colab": {
          "base_uri": "https://localhost:8080/"
        },
        "id": "lQa1Cc3Tdyjp",
        "outputId": "31fcb83f-4afa-47db-934a-63be5889a009"
      },
      "source": [
        "pip install pymc\r\n"
      ],
      "execution_count": 2,
      "outputs": [
        {
          "output_type": "stream",
          "text": [
            "Collecting pymc\n",
            "\u001b[?25l  Downloading https://files.pythonhosted.org/packages/37/81/9a222c38c65019de9ad5a1ee2448cc4a9b5f7a64eeaf246c77f81c0e6f94/pymc-2.3.8.tar.gz (385kB)\n",
            "\r\u001b[K     |▉                               | 10kB 17.5MB/s eta 0:00:01\r\u001b[K     |█▊                              | 20kB 23.8MB/s eta 0:00:01\r\u001b[K     |██▌                             | 30kB 27.0MB/s eta 0:00:01\r\u001b[K     |███▍                            | 40kB 29.4MB/s eta 0:00:01\r\u001b[K     |████▎                           | 51kB 7.8MB/s eta 0:00:01\r\u001b[K     |█████                           | 61kB 9.1MB/s eta 0:00:01\r\u001b[K     |██████                          | 71kB 9.4MB/s eta 0:00:01\r\u001b[K     |██████▉                         | 81kB 9.7MB/s eta 0:00:01\r\u001b[K     |███████▋                        | 92kB 7.1MB/s eta 0:00:01\r\u001b[K     |████████▌                       | 102kB 7.2MB/s eta 0:00:01\r\u001b[K     |█████████▍                      | 112kB 7.2MB/s eta 0:00:01\r\u001b[K     |██████████▏                     | 122kB 7.2MB/s eta 0:00:01\r\u001b[K     |███████████                     | 133kB 7.2MB/s eta 0:00:01\r\u001b[K     |████████████                    | 143kB 7.2MB/s eta 0:00:01\r\u001b[K     |████████████▊                   | 153kB 7.2MB/s eta 0:00:01\r\u001b[K     |█████████████▋                  | 163kB 7.2MB/s eta 0:00:01\r\u001b[K     |██████████████▌                 | 174kB 7.2MB/s eta 0:00:01\r\u001b[K     |███████████████▎                | 184kB 7.2MB/s eta 0:00:01\r\u001b[K     |████████████████▏               | 194kB 7.2MB/s eta 0:00:01\r\u001b[K     |█████████████████               | 204kB 7.2MB/s eta 0:00:01\r\u001b[K     |█████████████████▉              | 215kB 7.2MB/s eta 0:00:01\r\u001b[K     |██████████████████▊             | 225kB 7.2MB/s eta 0:00:01\r\u001b[K     |███████████████████▋            | 235kB 7.2MB/s eta 0:00:01\r\u001b[K     |████████████████████▍           | 245kB 7.2MB/s eta 0:00:01\r\u001b[K     |█████████████████████▎          | 256kB 7.2MB/s eta 0:00:01\r\u001b[K     |██████████████████████          | 266kB 7.2MB/s eta 0:00:01\r\u001b[K     |███████████████████████         | 276kB 7.2MB/s eta 0:00:01\r\u001b[K     |███████████████████████▉        | 286kB 7.2MB/s eta 0:00:01\r\u001b[K     |████████████████████████▋       | 296kB 7.2MB/s eta 0:00:01\r\u001b[K     |█████████████████████████▌      | 307kB 7.2MB/s eta 0:00:01\r\u001b[K     |██████████████████████████▍     | 317kB 7.2MB/s eta 0:00:01\r\u001b[K     |███████████████████████████▏    | 327kB 7.2MB/s eta 0:00:01\r\u001b[K     |████████████████████████████    | 337kB 7.2MB/s eta 0:00:01\r\u001b[K     |█████████████████████████████   | 348kB 7.2MB/s eta 0:00:01\r\u001b[K     |█████████████████████████████▊  | 358kB 7.2MB/s eta 0:00:01\r\u001b[K     |██████████████████████████████▋ | 368kB 7.2MB/s eta 0:00:01\r\u001b[K     |███████████████████████████████▌| 378kB 7.2MB/s eta 0:00:01\r\u001b[K     |████████████████████████████████| 389kB 7.2MB/s \n",
            "\u001b[?25hBuilding wheels for collected packages: pymc\n",
            "  Building wheel for pymc (setup.py) ... \u001b[?25l\u001b[?25hdone\n",
            "  Created wheel for pymc: filename=pymc-2.3.8-cp36-cp36m-linux_x86_64.whl size=1343905 sha256=37e7c47aa35f0bafc9e318f51593e4fde36e5311aec1a26f1605c5c59b5666d8\n",
            "  Stored in directory: /root/.cache/pip/wheels/0b/a8/e7/8f3ba91a39294d538a92db052fd1fcba1fca74a58c8b022026\n",
            "Successfully built pymc\n",
            "Installing collected packages: pymc\n",
            "Successfully installed pymc-2.3.8\n"
          ],
          "name": "stdout"
        }
      ]
    },
    {
      "cell_type": "code",
      "metadata": {
        "id": "a6QGxvjDc3vB"
      },
      "source": [
        "import pymc as pm\r\n",
        "lambda_=pm.Exponential(\"poisson_param\",1)\r\n",
        "data_generator=pm.Poisson(\"data_generator\",lambda_)\r\n",
        "data_plus_one=data_generator+1\r\n"
      ],
      "execution_count": 4,
      "outputs": []
    },
    {
      "cell_type": "code",
      "metadata": {
        "colab": {
          "base_uri": "https://localhost:8080/"
        },
        "id": "1qfbnTw3drNo",
        "outputId": "520bf4ac-dca1-4009-b534-d050cb78d299"
      },
      "source": [
        "print(\"Children of 'lambda_':\")\r\n",
        "print(lambda_.children)\r\n",
        "print(\"\\nParents of the 'data_generator':\")\r\n",
        "print(\"\\nChildren of 'data_generator':\")\r\n",
        "print(data_generator.children)\r\n"
      ],
      "execution_count": 10,
      "outputs": [
        {
          "output_type": "stream",
          "text": [
            "Children of 'lambda_':\n",
            "{<pymc.distributions.new_dist_class.<locals>.new_class 'data_generator' at 0x7fbbb1bbe358>}\n",
            "\n",
            "Parents of the 'data_generator':\n",
            "\n",
            "Children of 'data_generator':\n",
            "{<pymc.PyMCObjects.Deterministic '(data_generator_add_1)' at 0x7fbbd56a7a20>}\n"
          ],
          "name": "stdout"
        }
      ]
    },
    {
      "cell_type": "code",
      "metadata": {
        "colab": {
          "base_uri": "https://localhost:8080/"
        },
        "id": "1XLg5eOKeqO_",
        "outputId": "df0c5983-7934-48e9-e119-dddccf1df4d6"
      },
      "source": [
        "print(\"lambda_.value=\", lambda_.value)\r\n",
        "print(\"data_generator.value =\",data_generator.value)\r\n",
        "print(\"data_plus_one.value =\",data_plus_one.value)"
      ],
      "execution_count": 11,
      "outputs": [
        {
          "output_type": "stream",
          "text": [
            "lambda_.value= 0.8421693513259674\n",
            "data_generator.value = 0\n",
            "data_plus_one.value = 1\n"
          ],
          "name": "stdout"
        }
      ]
    }
  ]
}